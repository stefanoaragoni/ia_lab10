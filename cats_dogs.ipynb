{
 "cells": [
  {
   "attachments": {},
   "cell_type": "markdown",
   "metadata": {},
   "source": [
    "## Lab 10 - Clasificación de Perros y Gatos\n",
    "\n",
    "Stefano Aragoni, Carol Arévalo, Luis Diego Santos"
   ]
  },
  {
   "attachments": {},
   "cell_type": "markdown",
   "metadata": {},
   "source": [
    "### Importar Librerías\n"
   ]
  },
  {
   "cell_type": "code",
   "execution_count": 1,
   "metadata": {},
   "outputs": [],
   "source": [
    "import os\n",
    "import numpy as np\n",
    "from PIL import Image\n",
    "from sklearn.model_selection import train_test_split\n",
    "import matplotlib.pyplot as plt\n",
    "from imblearn.over_sampling import RandomOverSampler\n",
    "import cv2\n",
    "import random\n",
    "import tensorflow as tf\n",
    "from PIL import Image\n",
    "from skimage import color, filters, measure"
   ]
  },
  {
   "attachments": {},
   "cell_type": "markdown",
   "metadata": {},
   "source": [
    "## 1.1 Lectura del Dataset"
   ]
  },
  {
   "attachments": {},
   "cell_type": "markdown",
   "metadata": {},
   "source": [
    "### Lectura y Procesamiento de Imagenes"
   ]
  },
  {
   "cell_type": "code",
   "execution_count": 2,
   "metadata": {},
   "outputs": [],
   "source": [
    "def is_image_corrupted(file_path):\n",
    "    try:\n",
    "        with Image.open(file_path) as img:\n",
    "            img.verify()\n",
    "        return False\n",
    "    except:\n",
    "        return True"
   ]
  },
  {
   "cell_type": "code",
   "execution_count": 3,
   "metadata": {},
   "outputs": [],
   "source": [
    "def load_images(path, size=(150, 150)):\n",
    "    images = []\n",
    "    labels = []\n",
    "\n",
    "    dirs = [\"Cat\", \"Dog\"]\n",
    "\n",
    "    for dir in dirs:\n",
    "        elements = os.listdir(path+'/'+dir)\n",
    "        random.shuffle(elements)\n",
    "\n",
    "        contador = 0\n",
    "\n",
    "        for file in elements:\n",
    "            if file.endswith('.jpg'):\n",
    "                img_path = os.path.join(path+'/'+dir, file)\n",
    "                label = 1 if 'Dog' == dir else 0\n",
    "\n",
    "                corrupta = is_image_corrupted(img_path)\n",
    "\n",
    "                if corrupta:\n",
    "                    continue\n",
    "\n",
    "                # Leer imagen a color\n",
    "                img = cv2.imread(img_path)\n",
    "\n",
    "                try:\n",
    "                    # Redimensionar imagen\n",
    "                    img = cv2.resize(img, size)\n",
    "\n",
    "                    # Convertir imagen a escala de grises\n",
    "                    gray_img = color.rgb2gray(img)\n",
    "\n",
    "                    # Aplicar umbral adaptativo para binarizar imagen\n",
    "                    binary_img = gray_img > filters.threshold_local(gray_img, block_size=35)\n",
    "\n",
    "                    # Label the objects in the binary image\n",
    "                    labeled_img = measure.label(binary_img)\n",
    "\n",
    "                    # Find the properties of the labeled objects\n",
    "                    properties = measure.regionprops(labeled_img)\n",
    "\n",
    "                    # Find the object with the largest area\n",
    "                    max_area = 0\n",
    "                    max_area_index = 0\n",
    "                    for i, prop in enumerate(properties):\n",
    "                        if prop.area > max_area:\n",
    "                            max_area = prop.area\n",
    "                            max_area_index = i\n",
    "\n",
    "                    # Extract the coordinates of the bounding box of the object\n",
    "                    min_row, min_col, max_row, max_col = properties[max_area_index].bbox\n",
    "\n",
    "                    # Crop the image to the bounding box of the object\n",
    "                    img = img[min_row:max_row, min_col:max_col]\n",
    "\n",
    "                    # expand the image to 150x150\n",
    "                    img = cv2.resize(img, size)\n",
    "\n",
    "                    # Girar imagen aleatoriamente\n",
    "                    if random.random() < 0.5:\n",
    "                        opt = random.randint(0, 3)\n",
    "\n",
    "                        if opt == 0:\n",
    "                            img = cv2.flip(img, 1)\n",
    "\n",
    "                        elif opt == 1:\n",
    "                            img = cv2.rotate(img, cv2.ROTATE_180)\n",
    "\n",
    "                        elif opt == 2:\n",
    "                            img = cv2.rotate(img, cv2.ROTATE_90_CLOCKWISE)\n",
    "\n",
    "                        elif opt == 3:\n",
    "                            img = cv2.rotate(img, cv2.ROTATE_90_COUNTERCLOCKWISE)\n",
    "\n",
    "\n",
    "                    img = cv2.cvtColor(img, cv2.COLOR_BGR2GRAY)\n",
    "                    \n",
    "                    # Normalizar valores de píxeles\n",
    "                    img = img / 255.0\n",
    "\n",
    "                    # # show image on popup\n",
    "                    # cv2.imshow('image', img)\n",
    "                    # cv2.waitKey(0)\n",
    "                    # cv2.destroyAllWindows()\n",
    "\n",
    "                    images.append(img)\n",
    "                    labels.append(label)\n",
    "                            \n",
    "                    if contador == 5000:\n",
    "                        break\n",
    "\n",
    "                    if contador % 100 == 0:\n",
    "                        print(\"Imagenes procesadas: \", contador)  \n",
    "\n",
    "                    contador += 1\n",
    "\n",
    "                except Exception as e:\n",
    "                    pass\n",
    "\n",
    "    return np.array(images), np.array(labels)"
   ]
  },
  {
   "attachments": {},
   "cell_type": "markdown",
   "metadata": {},
   "source": [
    "### Importar Imagenes y Split de Dataset"
   ]
  },
  {
   "cell_type": "code",
   "execution_count": 4,
   "metadata": {},
   "outputs": [
    {
     "name": "stdout",
     "output_type": "stream",
     "text": [
      "Imagenes procesadas:  0\n",
      "Imagenes procesadas:  100\n",
      "Imagenes procesadas:  200\n",
      "Imagenes procesadas:  300\n",
      "Imagenes procesadas:  400\n",
      "Imagenes procesadas:  500\n",
      "Imagenes procesadas:  600\n",
      "Imagenes procesadas:  700\n",
      "Imagenes procesadas:  800\n",
      "Imagenes procesadas:  900\n",
      "Imagenes procesadas:  1000\n",
      "Imagenes procesadas:  1100\n",
      "Imagenes procesadas:  1200\n",
      "Imagenes procesadas:  1300\n",
      "Imagenes procesadas:  1400\n",
      "Imagenes procesadas:  1500\n",
      "Imagenes procesadas:  1600\n",
      "Imagenes procesadas:  1700\n",
      "Imagenes procesadas:  1800\n",
      "Imagenes procesadas:  1900\n",
      "Imagenes procesadas:  2000\n",
      "Imagenes procesadas:  2100\n",
      "Imagenes procesadas:  2200\n",
      "Imagenes procesadas:  2300\n",
      "Imagenes procesadas:  2400\n",
      "Imagenes procesadas:  2500\n",
      "Imagenes procesadas:  2600\n",
      "Imagenes procesadas:  2700\n",
      "Imagenes procesadas:  2800\n",
      "Imagenes procesadas:  2900\n",
      "Imagenes procesadas:  3000\n",
      "Imagenes procesadas:  3100\n",
      "Imagenes procesadas:  3200\n",
      "Imagenes procesadas:  3300\n",
      "Imagenes procesadas:  3400\n",
      "Imagenes procesadas:  3500\n",
      "Imagenes procesadas:  3600\n",
      "Imagenes procesadas:  3700\n",
      "Imagenes procesadas:  3800\n",
      "Imagenes procesadas:  3900\n",
      "Imagenes procesadas:  4000\n",
      "Imagenes procesadas:  4100\n",
      "Imagenes procesadas:  4200\n",
      "Imagenes procesadas:  4300\n",
      "Imagenes procesadas:  4400\n",
      "Imagenes procesadas:  4500\n",
      "Imagenes procesadas:  4600\n",
      "Imagenes procesadas:  4700\n",
      "Imagenes procesadas:  4800\n",
      "Imagenes procesadas:  4900\n",
      "Imagenes procesadas:  0\n",
      "Imagenes procesadas:  100\n",
      "Imagenes procesadas:  200\n",
      "Imagenes procesadas:  300\n",
      "Imagenes procesadas:  400\n",
      "Imagenes procesadas:  500\n",
      "Imagenes procesadas:  600\n",
      "Imagenes procesadas:  700\n"
     ]
    },
    {
     "name": "stderr",
     "output_type": "stream",
     "text": [
      "Corrupt JPEG data: 399 extraneous bytes before marker 0xd9\n"
     ]
    },
    {
     "name": "stdout",
     "output_type": "stream",
     "text": [
      "Imagenes procesadas:  800\n",
      "Imagenes procesadas:  900\n",
      "Imagenes procesadas:  1000\n",
      "Imagenes procesadas:  1100\n",
      "Imagenes procesadas:  1200\n",
      "Imagenes procesadas:  1300\n",
      "Imagenes procesadas:  1400\n",
      "Imagenes procesadas:  1500\n"
     ]
    },
    {
     "name": "stderr",
     "output_type": "stream",
     "text": [
      "Corrupt JPEG data: 226 extraneous bytes before marker 0xd9\n"
     ]
    },
    {
     "name": "stdout",
     "output_type": "stream",
     "text": [
      "Imagenes procesadas:  1600\n",
      "Imagenes procesadas:  1700\n",
      "Imagenes procesadas:  1800\n",
      "Imagenes procesadas:  1900\n",
      "Imagenes procesadas:  2000\n",
      "Imagenes procesadas:  2100\n",
      "Imagenes procesadas:  2200\n",
      "Imagenes procesadas:  2300\n",
      "Imagenes procesadas:  2400\n",
      "Imagenes procesadas:  2500\n",
      "Imagenes procesadas:  2600\n",
      "Imagenes procesadas:  2700\n",
      "Imagenes procesadas:  2800\n"
     ]
    },
    {
     "name": "stderr",
     "output_type": "stream",
     "text": [
      "Corrupt JPEG data: 1403 extraneous bytes before marker 0xd9\n"
     ]
    },
    {
     "name": "stdout",
     "output_type": "stream",
     "text": [
      "Imagenes procesadas:  2900\n",
      "Imagenes procesadas:  3000\n",
      "Imagenes procesadas:  3100\n",
      "Imagenes procesadas:  3200\n",
      "Imagenes procesadas:  3300\n",
      "Imagenes procesadas:  3400\n",
      "Imagenes procesadas:  3500\n",
      "Imagenes procesadas:  3600\n",
      "Imagenes procesadas:  3700\n",
      "Imagenes procesadas:  3800\n",
      "Imagenes procesadas:  3900\n",
      "Imagenes procesadas:  4000\n"
     ]
    },
    {
     "name": "stderr",
     "output_type": "stream",
     "text": [
      "Warning: unknown JFIF revision number 0.00\n"
     ]
    },
    {
     "name": "stdout",
     "output_type": "stream",
     "text": [
      "Imagenes procesadas:  4100\n",
      "Imagenes procesadas:  4200\n",
      "Imagenes procesadas:  4300\n",
      "Imagenes procesadas:  4400\n"
     ]
    },
    {
     "name": "stderr",
     "output_type": "stream",
     "text": [
      "Corrupt JPEG data: 2230 extraneous bytes before marker 0xd9\n"
     ]
    },
    {
     "name": "stdout",
     "output_type": "stream",
     "text": [
      "Imagenes procesadas:  4500\n",
      "Imagenes procesadas:  4600\n",
      "Imagenes procesadas:  4700\n",
      "Imagenes procesadas:  4800\n",
      "Imagenes procesadas:  4900\n",
      "\n",
      "Número de imágenes por clase: [5001 5001]\n"
     ]
    }
   ],
   "source": [
    "# Definir ruta del conjunto de datos\n",
    "data_path = './PetImages'\n",
    "\n",
    "# Cargar imágenes y etiquetas\n",
    "images, labels = load_images(data_path)\n",
    "\n",
    "# Comprobar tamaños de los conjuntos\n",
    "print('\\nNúmero de imágenes por clase:', np.bincount(labels))"
   ]
  },
  {
   "cell_type": "code",
   "execution_count": 5,
   "metadata": {},
   "outputs": [
    {
     "name": "stdout",
     "output_type": "stream",
     "text": [
      "\n",
      "Tamaño del conjunto de entrenamiento: (8001, 150, 150)\n",
      "Tamaño del conjunto de validación: (1001, 150, 150)\n",
      "Tamaño del conjunto de prueba: (1000, 150, 150)\n"
     ]
    }
   ],
   "source": [
    "# Dividir conjunto de datos en entrenamiento y prueba\n",
    "X_train, X_test, y_train, y_test = train_test_split(images, labels, test_size=0.2, random_state=42)\n",
    "\n",
    "# Dividir 20 de prueba en 10 de validación y 10 de prueba\n",
    "X_test, X_val, y_test, y_val = train_test_split(X_test, y_test, test_size=0.5, random_state=42)\n",
    "\n",
    "# Verificar tamaños de los conjuntos\n",
    "print('\\nTamaño del conjunto de entrenamiento:', X_train.shape)\n",
    "print('Tamaño del conjunto de validación:', X_val.shape)\n",
    "print('Tamaño del conjunto de prueba:', X_test.shape)"
   ]
  },
  {
   "cell_type": "code",
   "execution_count": 6,
   "metadata": {},
   "outputs": [],
   "source": [
    "from keras.utils import to_categorical\n",
    "\n",
    "y_train = to_categorical(y_train, 2)\n",
    "y_val = to_categorical(y_val, 2)"
   ]
  },
  {
   "attachments": {},
   "cell_type": "markdown",
   "metadata": {},
   "source": [
    "## 1.2 Construccion del Modelo"
   ]
  },
  {
   "cell_type": "code",
   "execution_count": 30,
   "metadata": {},
   "outputs": [
    {
     "name": "stdout",
     "output_type": "stream",
     "text": [
      "Epoch 1/12\n"
     ]
    },
    {
     "ename": "ValueError",
     "evalue": "in user code:\n\n    File \"/Users/ls/miniconda/lib/python3.10/site-packages/keras/engine/training.py\", line 1284, in train_function  *\n        return step_function(self, iterator)\n    File \"/Users/ls/miniconda/lib/python3.10/site-packages/keras/engine/training.py\", line 1268, in step_function  **\n        outputs = model.distribute_strategy.run(run_step, args=(data,))\n    File \"/Users/ls/miniconda/lib/python3.10/site-packages/keras/engine/training.py\", line 1249, in run_step  **\n        outputs = model.train_step(data)\n    File \"/Users/ls/miniconda/lib/python3.10/site-packages/keras/engine/training.py\", line 1055, in train_step\n        return self.compute_metrics(x, y, y_pred, sample_weight)\n    File \"/Users/ls/miniconda/lib/python3.10/site-packages/keras/engine/training.py\", line 1149, in compute_metrics\n        self.compiled_metrics.update_state(y, y_pred, sample_weight)\n    File \"/Users/ls/miniconda/lib/python3.10/site-packages/keras/engine/compile_utils.py\", line 577, in update_state\n        self.build(y_pred, y_true)\n    File \"/Users/ls/miniconda/lib/python3.10/site-packages/keras/engine/compile_utils.py\", line 483, in build\n        self._metrics = tf.__internal__.nest.map_structure_up_to(\n    File \"/Users/ls/miniconda/lib/python3.10/site-packages/keras/engine/compile_utils.py\", line 631, in _get_metric_objects\n        return [self._get_metric_object(m, y_t, y_p) for m in metrics]\n    File \"/Users/ls/miniconda/lib/python3.10/site-packages/keras/engine/compile_utils.py\", line 631, in <listcomp>\n        return [self._get_metric_object(m, y_t, y_p) for m in metrics]\n    File \"/Users/ls/miniconda/lib/python3.10/site-packages/keras/engine/compile_utils.py\", line 650, in _get_metric_object\n        metric_obj = metrics_mod.get(metric)\n    File \"/Users/ls/miniconda/lib/python3.10/site-packages/keras/metrics/__init__.py\", line 204, in get\n        return deserialize(str(identifier))\n    File \"/Users/ls/miniconda/lib/python3.10/site-packages/keras/metrics/__init__.py\", line 158, in deserialize\n        return deserialize_keras_object(\n    File \"/Users/ls/miniconda/lib/python3.10/site-packages/keras/saving/legacy/serialization.py\", line 543, in deserialize_keras_object\n        raise ValueError(\n\n    ValueError: Unknown metric function: 'val_accuracy'. Please ensure you are using a `keras.utils.custom_object_scope` and that this object is included in the scope. See https://www.tensorflow.org/guide/keras/save_and_serialize#registering_the_custom_object for details.\n",
     "output_type": "error",
     "traceback": [
      "\u001b[0;31m---------------------------------------------------------------------------\u001b[0m",
      "\u001b[0;31mValueError\u001b[0m                                Traceback (most recent call last)",
      "Cell \u001b[0;32mIn[30], line 29\u001b[0m\n\u001b[1;32m      1\u001b[0m model \u001b[39m=\u001b[39m tf\u001b[39m.\u001b[39mkeras\u001b[39m.\u001b[39mSequential([\n\u001b[1;32m      2\u001b[0m     tf\u001b[39m.\u001b[39mkeras\u001b[39m.\u001b[39mlayers\u001b[39m.\u001b[39mConv2D(\u001b[39m32\u001b[39m, kernel_size\u001b[39m=\u001b[39m(\u001b[39m3\u001b[39m, \u001b[39m3\u001b[39m), activation\u001b[39m=\u001b[39m\u001b[39m'\u001b[39m\u001b[39mrelu\u001b[39m\u001b[39m'\u001b[39m, input_shape\u001b[39m=\u001b[39m(\u001b[39m150\u001b[39m, \u001b[39m150\u001b[39m, \u001b[39m1\u001b[39m)),\n\u001b[1;32m      3\u001b[0m     tf\u001b[39m.\u001b[39mkeras\u001b[39m.\u001b[39mlayers\u001b[39m.\u001b[39mBatchNormalization(),\n\u001b[0;32m   (...)\u001b[0m\n\u001b[1;32m     22\u001b[0m     tf\u001b[39m.\u001b[39mkeras\u001b[39m.\u001b[39mlayers\u001b[39m.\u001b[39mDense(\u001b[39m2\u001b[39m, activation\u001b[39m=\u001b[39m\u001b[39m'\u001b[39m\u001b[39msoftmax\u001b[39m\u001b[39m'\u001b[39m)\n\u001b[1;32m     23\u001b[0m ])\n\u001b[1;32m     25\u001b[0m model\u001b[39m.\u001b[39mcompile(optimizer\u001b[39m=\u001b[39m\u001b[39m'\u001b[39m\u001b[39mrmsprop\u001b[39m\u001b[39m'\u001b[39m, \n\u001b[1;32m     26\u001b[0m               loss\u001b[39m=\u001b[39m\u001b[39m'\u001b[39m\u001b[39mbinary_crossentropy\u001b[39m\u001b[39m'\u001b[39m, \n\u001b[1;32m     27\u001b[0m               metrics\u001b[39m=\u001b[39m[\u001b[39m'\u001b[39m\u001b[39mval_accuracy\u001b[39m\u001b[39m'\u001b[39m])\n\u001b[0;32m---> 29\u001b[0m history \u001b[39m=\u001b[39m model\u001b[39m.\u001b[39;49mfit(X_train, y_train,\n\u001b[1;32m     30\u001b[0m           epochs\u001b[39m=\u001b[39;49m\u001b[39m12\u001b[39;49m,\n\u001b[1;32m     31\u001b[0m           verbose\u001b[39m=\u001b[39;49m\u001b[39m1\u001b[39;49m,\n\u001b[1;32m     32\u001b[0m           steps_per_epoch\u001b[39m=\u001b[39;49m\u001b[39m400\u001b[39;49m,\n\u001b[1;32m     33\u001b[0m           validation_data\u001b[39m=\u001b[39;49m(X_val, y_val))\n\u001b[1;32m     35\u001b[0m test_loss, test_acc \u001b[39m=\u001b[39m model\u001b[39m.\u001b[39mevaluate(X_val, y_val, verbose\u001b[39m=\u001b[39m\u001b[39m1\u001b[39m)\n\u001b[1;32m     36\u001b[0m \u001b[39mprint\u001b[39m(\u001b[39m'\u001b[39m\u001b[39m\\n\u001b[39;00m\u001b[39mTest accuracy:\u001b[39m\u001b[39m'\u001b[39m, test_acc)\n",
      "File \u001b[0;32m~/miniconda/lib/python3.10/site-packages/keras/utils/traceback_utils.py:70\u001b[0m, in \u001b[0;36mfilter_traceback.<locals>.error_handler\u001b[0;34m(*args, **kwargs)\u001b[0m\n\u001b[1;32m     67\u001b[0m     filtered_tb \u001b[39m=\u001b[39m _process_traceback_frames(e\u001b[39m.\u001b[39m__traceback__)\n\u001b[1;32m     68\u001b[0m     \u001b[39m# To get the full stack trace, call:\u001b[39;00m\n\u001b[1;32m     69\u001b[0m     \u001b[39m# `tf.debugging.disable_traceback_filtering()`\u001b[39;00m\n\u001b[0;32m---> 70\u001b[0m     \u001b[39mraise\u001b[39;00m e\u001b[39m.\u001b[39mwith_traceback(filtered_tb) \u001b[39mfrom\u001b[39;00m \u001b[39mNone\u001b[39;00m\n\u001b[1;32m     71\u001b[0m \u001b[39mfinally\u001b[39;00m:\n\u001b[1;32m     72\u001b[0m     \u001b[39mdel\u001b[39;00m filtered_tb\n",
      "File \u001b[0;32m/var/folders/mm/7cr01mmd5dn8q0ldchj4p97c0000gn/T/__autograph_generated_filecajn4afo.py:15\u001b[0m, in \u001b[0;36mouter_factory.<locals>.inner_factory.<locals>.tf__train_function\u001b[0;34m(iterator)\u001b[0m\n\u001b[1;32m     13\u001b[0m \u001b[39mtry\u001b[39;00m:\n\u001b[1;32m     14\u001b[0m     do_return \u001b[39m=\u001b[39m \u001b[39mTrue\u001b[39;00m\n\u001b[0;32m---> 15\u001b[0m     retval_ \u001b[39m=\u001b[39m ag__\u001b[39m.\u001b[39mconverted_call(ag__\u001b[39m.\u001b[39mld(step_function), (ag__\u001b[39m.\u001b[39mld(\u001b[39mself\u001b[39m), ag__\u001b[39m.\u001b[39mld(iterator)), \u001b[39mNone\u001b[39;00m, fscope)\n\u001b[1;32m     16\u001b[0m \u001b[39mexcept\u001b[39;00m:\n\u001b[1;32m     17\u001b[0m     do_return \u001b[39m=\u001b[39m \u001b[39mFalse\u001b[39;00m\n",
      "\u001b[0;31mValueError\u001b[0m: in user code:\n\n    File \"/Users/ls/miniconda/lib/python3.10/site-packages/keras/engine/training.py\", line 1284, in train_function  *\n        return step_function(self, iterator)\n    File \"/Users/ls/miniconda/lib/python3.10/site-packages/keras/engine/training.py\", line 1268, in step_function  **\n        outputs = model.distribute_strategy.run(run_step, args=(data,))\n    File \"/Users/ls/miniconda/lib/python3.10/site-packages/keras/engine/training.py\", line 1249, in run_step  **\n        outputs = model.train_step(data)\n    File \"/Users/ls/miniconda/lib/python3.10/site-packages/keras/engine/training.py\", line 1055, in train_step\n        return self.compute_metrics(x, y, y_pred, sample_weight)\n    File \"/Users/ls/miniconda/lib/python3.10/site-packages/keras/engine/training.py\", line 1149, in compute_metrics\n        self.compiled_metrics.update_state(y, y_pred, sample_weight)\n    File \"/Users/ls/miniconda/lib/python3.10/site-packages/keras/engine/compile_utils.py\", line 577, in update_state\n        self.build(y_pred, y_true)\n    File \"/Users/ls/miniconda/lib/python3.10/site-packages/keras/engine/compile_utils.py\", line 483, in build\n        self._metrics = tf.__internal__.nest.map_structure_up_to(\n    File \"/Users/ls/miniconda/lib/python3.10/site-packages/keras/engine/compile_utils.py\", line 631, in _get_metric_objects\n        return [self._get_metric_object(m, y_t, y_p) for m in metrics]\n    File \"/Users/ls/miniconda/lib/python3.10/site-packages/keras/engine/compile_utils.py\", line 631, in <listcomp>\n        return [self._get_metric_object(m, y_t, y_p) for m in metrics]\n    File \"/Users/ls/miniconda/lib/python3.10/site-packages/keras/engine/compile_utils.py\", line 650, in _get_metric_object\n        metric_obj = metrics_mod.get(metric)\n    File \"/Users/ls/miniconda/lib/python3.10/site-packages/keras/metrics/__init__.py\", line 204, in get\n        return deserialize(str(identifier))\n    File \"/Users/ls/miniconda/lib/python3.10/site-packages/keras/metrics/__init__.py\", line 158, in deserialize\n        return deserialize_keras_object(\n    File \"/Users/ls/miniconda/lib/python3.10/site-packages/keras/saving/legacy/serialization.py\", line 543, in deserialize_keras_object\n        raise ValueError(\n\n    ValueError: Unknown metric function: 'val_accuracy'. Please ensure you are using a `keras.utils.custom_object_scope` and that this object is included in the scope. See https://www.tensorflow.org/guide/keras/save_and_serialize#registering_the_custom_object for details.\n"
     ]
    }
   ],
   "source": [
    "model = tf.keras.Sequential([\n",
    "    tf.keras.layers.Conv2D(32, kernel_size=(3, 3), activation='relu', input_shape=(150, 150, 1)),\n",
    "    tf.keras.layers.BatchNormalization(),\n",
    "    tf.keras.layers.MaxPooling2D(pool_size=(2, 2)),\n",
    "    tf.keras.layers.Dropout(0.2),\n",
    "\n",
    "    tf.keras.layers.Conv2D(64, kernel_size=(3, 3), activation='relu'),\n",
    "    tf.keras.layers.BatchNormalization(),\n",
    "    tf.keras.layers.MaxPooling2D(pool_size=(2, 2)),\n",
    "    tf.keras.layers.Dropout(0.2),\n",
    "    \n",
    "    tf.keras.layers.Conv2D(128, kernel_size=(3, 3), activation='relu'),\n",
    "    tf.keras.layers.BatchNormalization(),\n",
    "    tf.keras.layers.MaxPooling2D(pool_size=(2, 2)),\n",
    "    tf.keras.layers.Dropout(0.2),\n",
    "\n",
    "    tf.keras.layers.Flatten(),\n",
    "    tf.keras.layers.Dense(256, activation='relu'),\n",
    "    tf.keras.layers.BatchNormalization(),\n",
    "    tf.keras.layers.Dropout(0.5),\n",
    "    \n",
    "    tf.keras.layers.Dense(2, activation='softmax')\n",
    "])\n",
    "\n",
    "model.compile(optimizer='rmsprop', \n",
    "              loss='binary_crossentropy', \n",
    "              metrics=['accuracy'])\n",
    "\n",
    "history = model.fit(X_train, y_train,\n",
    "          epochs=10,\n",
    "          verbose=1,\n",
    "          steps_per_epoch=400,\n",
    "          validation_data=(X_val, y_val))\n",
    "\n",
    "test_loss, test_acc = model.evaluate(X_val, y_val, verbose=1)\n",
    "print('\\nTest accuracy:', test_acc)"
   ]
  }
 ],
 "metadata": {
  "kernelspec": {
   "display_name": "Python 3",
   "language": "python",
   "name": "python3"
  },
  "language_info": {
   "codemirror_mode": {
    "name": "ipython",
    "version": 3
   },
   "file_extension": ".py",
   "mimetype": "text/x-python",
   "name": "python",
   "nbconvert_exporter": "python",
   "pygments_lexer": "ipython3",
   "version": "3.9.2"
  },
  "orig_nbformat": 4
 },
 "nbformat": 4,
 "nbformat_minor": 2
}
