{
 "cells": [
  {
   "attachments": {},
   "cell_type": "markdown",
   "metadata": {},
   "source": [
    "## Lab 10 - Clasificación de Perros y Gatos\n",
    "\n",
    "Stefano Aragoni, Carol Arévalo, Luis Diego Santos"
   ]
  },
  {
   "attachments": {},
   "cell_type": "markdown",
   "metadata": {},
   "source": [
    "### Importar Librerías\n"
   ]
  },
  {
   "cell_type": "code",
   "execution_count": 1,
   "metadata": {},
   "outputs": [],
   "source": [
    "import os\n",
    "import numpy as np\n",
    "from PIL import Image\n",
    "from sklearn.model_selection import train_test_split\n",
    "import matplotlib.pyplot as plt\n",
    "from imblearn.over_sampling import RandomOverSampler\n",
    "import cv2\n",
    "import random"
   ]
  },
  {
   "attachments": {},
   "cell_type": "markdown",
   "metadata": {},
   "source": [
    "## 1.1 Lectura del Dataset"
   ]
  },
  {
   "attachments": {},
   "cell_type": "markdown",
   "metadata": {},
   "source": [
    "### Lectura y Procesamiento de Imagenes"
   ]
  },
  {
   "cell_type": "code",
   "execution_count": 14,
   "metadata": {},
   "outputs": [],
   "source": [
    "\n",
    "def load_images(path, size=(224, 224)):\n",
    "    images = []\n",
    "    labels = []\n",
    "\n",
    "    dirs = [\"Cat\", \"Dog\"]\n",
    "\n",
    "    for dir in dirs:\n",
    "\n",
    "        contador = 0\n",
    "\n",
    "        for file in os.listdir(path+'/'+dir):\n",
    "            if file.endswith('.jpg'):\n",
    "                img_path = os.path.join(path+'/'+dir, file)\n",
    "                label = 1 if 'Dog' == dir else 0\n",
    "\n",
    "                # Leer imagen a escala de grises\n",
    "                img = cv2.imread(img_path)\n",
    "                img = cv2.cvtColor(img, cv2.COLOR_BGR2GRAY)\n",
    "\n",
    "                # Redimensionar imagen a tamaño específico\n",
    "                img = cv2.resize(img, (500, 500))\n",
    "\n",
    "                # Aplicar filtro bilateral para eliminar ruido\n",
    "                img = cv2.bilateralFilter(img, 50, 30, 30)\n",
    "\n",
    "                # Aplicar umbral para binarizar imagen\n",
    "                ret, thresh = cv2.threshold(img, 150, 255, cv2.THRESH_BINARY)\n",
    "\n",
    "                # Encontrar contornos\n",
    "                contours, hierarchy = cv2.findContours(thresh, cv2.RETR_TREE, cv2.CHAIN_APPROX_SIMPLE)\n",
    "\n",
    "                # Dibujar contornos en imagen\n",
    "                img = cv2.drawContours(img, contours, -1, (0, 255, 0), 1)\n",
    "\n",
    "                if random.random() < 0.5:\n",
    "                    \n",
    "                    opt = random.randint(0, 3)\n",
    "\n",
    "\n",
    "                    if opt == 0:\n",
    "                        img = cv2.flip(img, 1)\n",
    "\n",
    "                    elif opt == 1:\n",
    "                        img = cv2.rotate(img, cv2.ROTATE_180)\n",
    "\n",
    "                    elif opt == 2:\n",
    "                        img = cv2.rotate(img, cv2.ROTATE_90_CLOCKWISE)\n",
    "\n",
    "                    elif opt == 3:\n",
    "                        img = cv2.rotate(img, cv2.ROTATE_90_COUNTERCLOCKWISE)\n",
    "\n",
    "\n",
    "                # Normalizar valores de píxeles\n",
    "                img = img / 255.0\n",
    "\n",
    "                # # show image on plot\n",
    "                # plt.imshow(img, cmap='gray')\n",
    "                # plt.show()\n",
    "\n",
    "                images.append(img)\n",
    "                labels.append(label)\n",
    "                         \n",
    "                if contador == 1000:\n",
    "                    break\n",
    "\n",
    "                if contador % 100 == 0:\n",
    "                    print(\"Imagenes procesadas: \", contador)\n",
    "\n",
    "                contador += 1\n",
    "\n",
    "    return np.array(images), np.array(labels)"
   ]
  },
  {
   "attachments": {},
   "cell_type": "markdown",
   "metadata": {},
   "source": [
    "### Importar Imagenes y Split de Dataset\n",
    "\n",
    "> Este proceso de lectura, a pesar de que solo se leen 1000 fotos de perros y 1000 de gatos, se tarda aprox 15 minutos."
   ]
  },
  {
   "cell_type": "code",
   "execution_count": 15,
   "metadata": {},
   "outputs": [
    {
     "name": "stdout",
     "output_type": "stream",
     "text": [
      "Imagenes procesadas:  0\n",
      "Imagenes procesadas:  100\n",
      "Imagenes procesadas:  200\n",
      "Imagenes procesadas:  300\n",
      "Imagenes procesadas:  400\n",
      "Imagenes procesadas:  500\n",
      "Imagenes procesadas:  600\n",
      "Imagenes procesadas:  700\n",
      "Imagenes procesadas:  800\n",
      "Imagenes procesadas:  900\n",
      "Imagenes procesadas:  0\n",
      "Imagenes procesadas:  100\n",
      "Imagenes procesadas:  200\n",
      "Imagenes procesadas:  300\n",
      "Imagenes procesadas:  400\n"
     ]
    }
   ],
   "source": [
    "# Definir ruta del conjunto de datos\n",
    "data_path = './PetImages'\n",
    "\n",
    "# Cargar imágenes y etiquetas\n",
    "images, labels = load_images(data_path)\n",
    "\n",
    "# Comprobar tamaños de los conjuntos\n",
    "print('\\nNúmero de imágenes por clase:', np.bincount(labels))"
   ]
  },
  {
   "cell_type": "code",
   "execution_count": null,
   "metadata": {},
   "outputs": [
    {
     "name": "stdout",
     "output_type": "stream",
     "text": [
      "\n",
      "Tamaño del conjunto de entrenamiento: (1600,)\n",
      "Tamaño del conjunto de validación: (200,)\n",
      "Tamaño del conjunto de prueba: (200,)\n"
     ]
    }
   ],
   "source": [
    "# Dividir conjunto de datos en entrenamiento y prueba\n",
    "X_train, X_test, y_train, y_test = train_test_split(images, labels, test_size=0.2, random_state=42)\n",
    "\n",
    "# Dividir 20 de prueba en 10 de validación y 10 de prueba\n",
    "X_test, X_val, y_test, y_val = train_test_split(X_test, y_test, test_size=0.5, random_state=42)\n",
    "\n",
    "# Verificar tamaños de los conjuntos\n",
    "print('\\nTamaño del conjunto de entrenamiento:', X_train.shape)\n",
    "print('Tamaño del conjunto de validación:', X_val.shape)\n",
    "print('Tamaño del conjunto de prueba:', X_test.shape)"
   ]
  },
  {
   "attachments": {},
   "cell_type": "markdown",
   "metadata": {},
   "source": [
    "## 1.2 Construccion del Modelo"
   ]
  },
  {
   "cell_type": "code",
   "execution_count": null,
   "metadata": {},
   "outputs": [],
   "source": [
    "import tensorflow as tf\n",
    "\n",
    "model = tf.keras.Sequential([\n",
    "    tf.keras.layers.Conv2D(32, kernel_size=(3, 3), activation='relu', input_shape=input_shape),\n",
    "    tf.keras.layers.MaxPooling2D(pool_size=(2, 2)),\n",
    "    tf.keras.layers.Dropout(0.25),\n",
    "    tf.keras.layers.Conv2D(64, kernel_size=(3, 3), activation='relu'),\n",
    "    tf.keras.layers.MaxPooling2D(pool_size=(2, 2)),\n",
    "    tf.keras.layers.Dropout(0.25),\n",
    "    tf.keras.layers.Flatten(),\n",
    "    tf.keras.layers.Dense(128, activation='relu'),\n",
    "    tf.keras.layers.Dropout(0.5),\n",
    "    tf.keras.layers.Dense(num_classes, activation='softmax')\n",
    "])\n"
   ]
  },
  {
   "cell_type": "code",
   "execution_count": null,
   "metadata": {},
   "outputs": [],
   "source": [
    "model.compile(loss='categorical_crossentropy',\n",
    "              optimizer='adam',\n",
    "              metrics=['accuracy'])\n",
    "\n",
    "model.fit(x_train, y_train,\n",
    "          batch_size=batch_size,\n",
    "          epochs=epochs,\n",
    "          validation_data=(x_val, y_val))\n"
   ]
  }
 ],
 "metadata": {
  "kernelspec": {
   "display_name": "Python 3",
   "language": "python",
   "name": "python3"
  },
  "language_info": {
   "codemirror_mode": {
    "name": "ipython",
    "version": 3
   },
   "file_extension": ".py",
   "mimetype": "text/x-python",
   "name": "python",
   "nbconvert_exporter": "python",
   "pygments_lexer": "ipython3",
   "version": "3.9.2"
  },
  "orig_nbformat": 4
 },
 "nbformat": 4,
 "nbformat_minor": 2
}
